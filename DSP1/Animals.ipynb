{
  "cells": [
    {
      "cell_type": "code",
      "execution_count": 1,
      "metadata": {
        "colab": {
          "base_uri": "https://localhost:8080/"
        },
        "id": "tjO2DdSPQFnq",
        "outputId": "25c9df63-6753-4bc6-a52c-1017ca99a41d"
      },
      "outputs": [
        {
          "output_type": "stream",
          "name": "stdout",
          "text": [
            "Drive already mounted at /content/drive; to attempt to forcibly remount, call drive.mount(\"/content/drive\", force_remount=True).\n"
          ]
        }
      ],
      "source": [
        "from google.colab import drive\n",
        "drive.mount('/content/drive')"
      ]
    },
    {
      "cell_type": "code",
      "execution_count": 2,
      "metadata": {
        "id": "35KEbWgwSzMy"
      },
      "outputs": [],
      "source": [
        "import tensorflow as tf\n",
        "from tensorflow.keras.preprocessing.image import ImageDataGenerator\n",
        "from tensorflow.keras.callbacks import ModelCheckpoint\n",
        "from tensorflow.keras.callbacks import EarlyStopping\n",
        "from tensorflow.keras.models import load_model\n",
        "from tensorflow.keras.applications import VGG16\n",
        "from tensorflow.keras.applications.vgg16 import preprocess_input\n",
        "from tensorflow.keras import models, layers\n",
        "import pathlib"
      ]
    },
    {
      "cell_type": "code",
      "execution_count": 3,
      "metadata": {
        "colab": {
          "base_uri": "https://localhost:8080/"
        },
        "id": "CC5deULiRBnE",
        "outputId": "d635b7b1-571a-4b50-d65c-60c5306e8940"
      },
      "outputs": [
        {
          "output_type": "stream",
          "name": "stdout",
          "text": [
            "Found 20947 images belonging to 10 classes.\n",
            "Found 5232 images belonging to 10 classes.\n"
          ]
        }
      ],
      "source": [
        "datagen = ImageDataGenerator(\n",
        "    preprocessing_function= preprocess_input,\n",
        "    validation_split=0.2)\n",
        "\n",
        "path = '/content/drive/MyDrive/Datasets/Animals/raw-img'\n",
        "train_generator = datagen.flow_from_directory(\n",
        "    path,\n",
        "    target_size=(224,224),\n",
        "    batch_size=32,\n",
        "    class_mode='categorical',\n",
        "    subset='training'\n",
        ")\n",
        "validation_generator = datagen.flow_from_directory(\n",
        "    path,\n",
        "    target_size=(224,224),\n",
        "    batch_size=32,\n",
        "    class_mode='categorical',\n",
        "    subset='validation'\n",
        ")"
      ]
    },
    {
      "cell_type": "code",
      "execution_count": 4,
      "metadata": {
        "colab": {
          "base_uri": "https://localhost:8080/"
        },
        "id": "hb5EmGRQhrf8",
        "outputId": "4f979842-3d49-46e0-ab1a-a58b431d741a"
      },
      "outputs": [
        {
          "output_type": "stream",
          "name": "stdout",
          "text": [
            "Model: \"sequential\"\n",
            "_________________________________________________________________\n",
            " Layer (type)                Output Shape              Param #   \n",
            "=================================================================\n",
            " block1_conv1 (Conv2D)       (None, 224, 224, 64)      1792      \n",
            "                                                                 \n",
            " block1_conv2 (Conv2D)       (None, 224, 224, 64)      36928     \n",
            "                                                                 \n",
            " block1_pool (MaxPooling2D)  (None, 112, 112, 64)      0         \n",
            "                                                                 \n",
            " block2_conv1 (Conv2D)       (None, 112, 112, 128)     73856     \n",
            "                                                                 \n",
            " block2_conv2 (Conv2D)       (None, 112, 112, 128)     147584    \n",
            "                                                                 \n",
            " block2_pool (MaxPooling2D)  (None, 56, 56, 128)       0         \n",
            "                                                                 \n",
            " block3_conv1 (Conv2D)       (None, 56, 56, 256)       295168    \n",
            "                                                                 \n",
            " block3_conv2 (Conv2D)       (None, 56, 56, 256)       590080    \n",
            "                                                                 \n",
            " block3_conv3 (Conv2D)       (None, 56, 56, 256)       590080    \n",
            "                                                                 \n",
            " block3_pool (MaxPooling2D)  (None, 28, 28, 256)       0         \n",
            "                                                                 \n",
            " block4_conv1 (Conv2D)       (None, 28, 28, 512)       1180160   \n",
            "                                                                 \n",
            " block4_conv2 (Conv2D)       (None, 28, 28, 512)       2359808   \n",
            "                                                                 \n",
            " block4_conv3 (Conv2D)       (None, 28, 28, 512)       2359808   \n",
            "                                                                 \n",
            " block4_pool (MaxPooling2D)  (None, 14, 14, 512)       0         \n",
            "                                                                 \n",
            " block5_conv1 (Conv2D)       (None, 14, 14, 512)       2359808   \n",
            "                                                                 \n",
            " block5_conv2 (Conv2D)       (None, 14, 14, 512)       2359808   \n",
            "                                                                 \n",
            " block5_conv3 (Conv2D)       (None, 14, 14, 512)       2359808   \n",
            "                                                                 \n",
            " block5_pool (MaxPooling2D)  (None, 7, 7, 512)         0         \n",
            "                                                                 \n",
            " conv2d (Conv2D)             (None, 5, 5, 512)         2359808   \n",
            "                                                                 \n",
            " max_pooling2d (MaxPooling2  (None, 2, 2, 512)         0         \n",
            " D)                                                              \n",
            "                                                                 \n",
            " global_average_pooling2d (  (None, 512)               0         \n",
            " GlobalAveragePooling2D)                                         \n",
            "                                                                 \n",
            " dense (Dense)               (None, 256)               131328    \n",
            "                                                                 \n",
            " dense_1 (Dense)             (None, 10)                2570      \n",
            "                                                                 \n",
            "=================================================================\n",
            "Total params: 17208394 (65.64 MB)\n",
            "Trainable params: 2493706 (9.51 MB)\n",
            "Non-trainable params: 14714688 (56.13 MB)\n",
            "_________________________________________________________________\n"
          ]
        }
      ],
      "source": [
        "checkpoint = ModelCheckpoint('animals.h5', save_best_only=True, monitor='val_accuracy', mode='max', verbose=1)\n",
        "early_stopping= EarlyStopping(monitor='val_loss', patience= 20, restore_best_weights=True)\n",
        "\n",
        "model = VGG16(weights='imagenet', include_top=False, input_shape = (224,224,3))\n",
        "\n",
        "for layer in model.layers:\n",
        "    layer.trainable = False\n",
        "\n",
        "model2 = models.Sequential()\n",
        "\n",
        "for layer in model.layers:\n",
        "    model2.add(layer)\n",
        "\n",
        "model2.add(layers.Conv2D(512, (3,3), activation = 'relu'))\n",
        "model2.add(layers.MaxPooling2D(2,2))\n",
        "model2.add(layers.GlobalAveragePooling2D())\n",
        "\n",
        "model2.add(layers.Dense(256, activation='relu'))\n",
        "model2.add(layers.Dense(10, activation='softmax'))\n",
        "\n",
        "\n",
        "model2.summary()\n",
        "\n",
        "model2.compile(loss='categorical_crossentropy',\n",
        "              optimizer= tf.keras.optimizers.Adam(learning_rate = 2.5e-3),\n",
        "              metrics=['accuracy'])"
      ]
    },
    {
      "cell_type": "code",
      "execution_count": 5,
      "metadata": {
        "colab": {
          "base_uri": "https://localhost:8080/"
        },
        "id": "jpg_ZVVmTSId",
        "outputId": "98f17445-d89e-45c1-add3-94f06ab09c2f"
      },
      "outputs": [
        {
          "output_type": "stream",
          "name": "stdout",
          "text": [
            "Epoch 1/50\n",
            "5/5 [==============================] - ETA: 0s - loss: 102.6789 - accuracy: 0.2313\n",
            "Epoch 1: val_accuracy improved from -inf to 0.46250, saving model to animals.h5\n"
          ]
        },
        {
          "output_type": "stream",
          "name": "stderr",
          "text": [
            "/usr/local/lib/python3.10/dist-packages/keras/src/engine/training.py:3103: UserWarning: You are saving your model as an HDF5 file via `model.save()`. This file format is considered legacy. We recommend using instead the native Keras format, e.g. `model.save('my_model.keras')`.\n",
            "  saving_api.save_model(\n"
          ]
        },
        {
          "output_type": "stream",
          "name": "stdout",
          "text": [
            "\b\b\b\b\b\b\b\b\b\b\b\b\b\b\b\b\b\b\b\b\b\b\b\b\b\b\b\b\b\b\b\b\b\b\b\b\b\b\b\b\b\b\b\b\b\b\b\b\b\b\b\b\b\b\b\b\b\b\b\b\b\b\b\b\b\b\b\b\b\b\b\b\b\b\b\b\b\b\b\b\b\b\r5/5 [==============================] - 61s 12s/step - loss: 102.6789 - accuracy: 0.2313 - val_loss: 40.1361 - val_accuracy: 0.4625\n",
            "Epoch 2/50\n",
            "5/5 [==============================] - ETA: 0s - loss: 19.8559 - accuracy: 0.6125\n",
            "Epoch 2: val_accuracy improved from 0.46250 to 0.62500, saving model to animals.h5\n",
            "5/5 [==============================] - 31s 7s/step - loss: 19.8559 - accuracy: 0.6125 - val_loss: 11.5651 - val_accuracy: 0.6250\n",
            "Epoch 3/50\n",
            "5/5 [==============================] - ETA: 0s - loss: 8.9286 - accuracy: 0.7063\n",
            "Epoch 3: val_accuracy improved from 0.62500 to 0.78750, saving model to animals.h5\n",
            "5/5 [==============================] - 30s 7s/step - loss: 8.9286 - accuracy: 0.7063 - val_loss: 3.5296 - val_accuracy: 0.7875\n",
            "Epoch 4/50\n",
            "5/5 [==============================] - ETA: 0s - loss: 6.6143 - accuracy: 0.7188\n",
            "Epoch 4: val_accuracy improved from 0.78750 to 0.80000, saving model to animals.h5\n",
            "5/5 [==============================] - 31s 6s/step - loss: 6.6143 - accuracy: 0.7188 - val_loss: 3.1780 - val_accuracy: 0.8000\n",
            "Epoch 5/50\n",
            "5/5 [==============================] - ETA: 0s - loss: 3.3913 - accuracy: 0.8062\n",
            "Epoch 5: val_accuracy did not improve from 0.80000\n",
            "5/5 [==============================] - 29s 6s/step - loss: 3.3913 - accuracy: 0.8062 - val_loss: 2.6834 - val_accuracy: 0.8000\n",
            "Epoch 6/50\n",
            "5/5 [==============================] - ETA: 0s - loss: 2.8748 - accuracy: 0.8313\n",
            "Epoch 6: val_accuracy did not improve from 0.80000\n",
            "5/5 [==============================] - 25s 5s/step - loss: 2.8748 - accuracy: 0.8313 - val_loss: 4.1915 - val_accuracy: 0.7688\n",
            "Epoch 7/50\n",
            "5/5 [==============================] - ETA: 0s - loss: 2.9786 - accuracy: 0.8438\n",
            "Epoch 7: val_accuracy improved from 0.80000 to 0.90000, saving model to animals.h5\n",
            "5/5 [==============================] - 31s 7s/step - loss: 2.9786 - accuracy: 0.8438 - val_loss: 2.1163 - val_accuracy: 0.9000\n",
            "Epoch 8/50\n",
            "5/5 [==============================] - ETA: 0s - loss: 1.9114 - accuracy: 0.8875\n",
            "Epoch 8: val_accuracy did not improve from 0.90000\n",
            "5/5 [==============================] - 27s 6s/step - loss: 1.9114 - accuracy: 0.8875 - val_loss: 2.9125 - val_accuracy: 0.8250\n",
            "Epoch 9/50\n",
            "5/5 [==============================] - ETA: 0s - loss: 1.7509 - accuracy: 0.8625\n",
            "Epoch 9: val_accuracy did not improve from 0.90000\n",
            "5/5 [==============================] - 27s 6s/step - loss: 1.7509 - accuracy: 0.8625 - val_loss: 1.4131 - val_accuracy: 0.8875\n",
            "Epoch 10/50\n",
            "5/5 [==============================] - ETA: 0s - loss: 1.6282 - accuracy: 0.8938\n",
            "Epoch 10: val_accuracy did not improve from 0.90000\n",
            "5/5 [==============================] - 24s 5s/step - loss: 1.6282 - accuracy: 0.8938 - val_loss: 1.7485 - val_accuracy: 0.9000\n",
            "Epoch 11/50\n",
            "5/5 [==============================] - ETA: 0s - loss: 2.1465 - accuracy: 0.8562\n",
            "Epoch 11: val_accuracy improved from 0.90000 to 0.92500, saving model to animals.h5\n",
            "5/5 [==============================] - 25s 5s/step - loss: 2.1465 - accuracy: 0.8562 - val_loss: 0.9417 - val_accuracy: 0.9250\n",
            "Epoch 12/50\n",
            "5/5 [==============================] - ETA: 0s - loss: 1.9522 - accuracy: 0.8313\n",
            "Epoch 12: val_accuracy did not improve from 0.92500\n",
            "5/5 [==============================] - 22s 5s/step - loss: 1.9522 - accuracy: 0.8313 - val_loss: 1.2950 - val_accuracy: 0.9000\n",
            "Epoch 13/50\n",
            "5/5 [==============================] - ETA: 0s - loss: 1.3752 - accuracy: 0.8625\n",
            "Epoch 13: val_accuracy did not improve from 0.92500\n",
            "5/5 [==============================] - 21s 4s/step - loss: 1.3752 - accuracy: 0.8625 - val_loss: 1.7724 - val_accuracy: 0.8562\n",
            "Epoch 14/50\n",
            "5/5 [==============================] - ETA: 0s - loss: 1.4290 - accuracy: 0.8438\n",
            "Epoch 14: val_accuracy did not improve from 0.92500\n",
            "5/5 [==============================] - 22s 5s/step - loss: 1.4290 - accuracy: 0.8438 - val_loss: 2.8015 - val_accuracy: 0.8125\n",
            "Epoch 15/50\n",
            "5/5 [==============================] - ETA: 0s - loss: 1.4227 - accuracy: 0.8813\n",
            "Epoch 15: val_accuracy did not improve from 0.92500\n",
            "5/5 [==============================] - 28s 6s/step - loss: 1.4227 - accuracy: 0.8813 - val_loss: 1.1110 - val_accuracy: 0.8813\n",
            "Epoch 16/50\n",
            "5/5 [==============================] - ETA: 0s - loss: 2.3690 - accuracy: 0.8438\n",
            "Epoch 16: val_accuracy did not improve from 0.92500\n",
            "5/5 [==============================] - 21s 4s/step - loss: 2.3690 - accuracy: 0.8438 - val_loss: 1.1313 - val_accuracy: 0.8750\n",
            "Epoch 17/50\n",
            "5/5 [==============================] - ETA: 0s - loss: 1.3976 - accuracy: 0.8500\n",
            "Epoch 17: val_accuracy did not improve from 0.92500\n",
            "5/5 [==============================] - 30s 7s/step - loss: 1.3976 - accuracy: 0.8500 - val_loss: 1.4595 - val_accuracy: 0.8687\n",
            "Epoch 18/50\n",
            "5/5 [==============================] - ETA: 0s - loss: 1.7017 - accuracy: 0.8813\n",
            "Epoch 18: val_accuracy did not improve from 0.92500\n",
            "5/5 [==============================] - 25s 5s/step - loss: 1.7017 - accuracy: 0.8813 - val_loss: 0.9150 - val_accuracy: 0.8938\n",
            "Epoch 19/50\n",
            "5/5 [==============================] - ETA: 0s - loss: 1.1299 - accuracy: 0.8625\n",
            "Epoch 19: val_accuracy did not improve from 0.92500\n",
            "5/5 [==============================] - 26s 5s/step - loss: 1.1299 - accuracy: 0.8625 - val_loss: 0.8064 - val_accuracy: 0.9125\n",
            "Epoch 20/50\n",
            "5/5 [==============================] - ETA: 0s - loss: 0.7689 - accuracy: 0.9187\n",
            "Epoch 20: val_accuracy did not improve from 0.92500\n",
            "5/5 [==============================] - 21s 4s/step - loss: 0.7689 - accuracy: 0.9187 - val_loss: 0.9388 - val_accuracy: 0.8875\n",
            "Epoch 21/50\n",
            "5/5 [==============================] - ETA: 0s - loss: 0.5464 - accuracy: 0.9500\n",
            "Epoch 21: val_accuracy did not improve from 0.92500\n",
            "5/5 [==============================] - 23s 5s/step - loss: 0.5464 - accuracy: 0.9500 - val_loss: 0.3948 - val_accuracy: 0.9250\n",
            "Epoch 22/50\n",
            "5/5 [==============================] - ETA: 0s - loss: 0.4591 - accuracy: 0.9312\n",
            "Epoch 22: val_accuracy did not improve from 0.92500\n",
            "5/5 [==============================] - 22s 5s/step - loss: 0.4591 - accuracy: 0.9312 - val_loss: 0.7685 - val_accuracy: 0.9000\n",
            "Epoch 23/50\n",
            "5/5 [==============================] - ETA: 0s - loss: 0.5271 - accuracy: 0.8813\n",
            "Epoch 23: val_accuracy did not improve from 0.92500\n",
            "5/5 [==============================] - 22s 5s/step - loss: 0.5271 - accuracy: 0.8813 - val_loss: 1.2533 - val_accuracy: 0.8625\n",
            "Epoch 24/50\n",
            "5/5 [==============================] - ETA: 0s - loss: 0.7667 - accuracy: 0.9062\n",
            "Epoch 24: val_accuracy did not improve from 0.92500\n",
            "5/5 [==============================] - 18s 4s/step - loss: 0.7667 - accuracy: 0.9062 - val_loss: 0.9361 - val_accuracy: 0.8938\n",
            "Epoch 25/50\n",
            "5/5 [==============================] - ETA: 0s - loss: 0.5430 - accuracy: 0.9375\n",
            "Epoch 25: val_accuracy did not improve from 0.92500\n",
            "5/5 [==============================] - 21s 4s/step - loss: 0.5430 - accuracy: 0.9375 - val_loss: 1.1996 - val_accuracy: 0.8875\n",
            "Epoch 26/50\n",
            "5/5 [==============================] - ETA: 0s - loss: 0.6821 - accuracy: 0.9187\n",
            "Epoch 26: val_accuracy did not improve from 0.92500\n",
            "5/5 [==============================] - 19s 4s/step - loss: 0.6821 - accuracy: 0.9187 - val_loss: 0.7497 - val_accuracy: 0.8938\n",
            "Epoch 27/50\n",
            "5/5 [==============================] - ETA: 0s - loss: 1.1115 - accuracy: 0.8625\n",
            "Epoch 27: val_accuracy did not improve from 0.92500\n",
            "5/5 [==============================] - 20s 4s/step - loss: 1.1115 - accuracy: 0.8625 - val_loss: 0.5680 - val_accuracy: 0.9062\n",
            "Epoch 28/50\n",
            "5/5 [==============================] - ETA: 0s - loss: 0.8376 - accuracy: 0.8875\n",
            "Epoch 28: val_accuracy did not improve from 0.92500\n",
            "5/5 [==============================] - 19s 4s/step - loss: 0.8376 - accuracy: 0.8875 - val_loss: 0.6925 - val_accuracy: 0.8938\n",
            "Epoch 29/50\n",
            "5/5 [==============================] - ETA: 0s - loss: 0.4667 - accuracy: 0.9125\n",
            "Epoch 29: val_accuracy did not improve from 0.92500\n",
            "5/5 [==============================] - 21s 4s/step - loss: 0.4667 - accuracy: 0.9125 - val_loss: 0.5927 - val_accuracy: 0.9187\n",
            "Epoch 30/50\n",
            "5/5 [==============================] - ETA: 0s - loss: 0.6625 - accuracy: 0.8687\n",
            "Epoch 30: val_accuracy did not improve from 0.92500\n",
            "5/5 [==============================] - 27s 6s/step - loss: 0.6625 - accuracy: 0.8687 - val_loss: 0.6591 - val_accuracy: 0.9062\n",
            "Epoch 31/50\n",
            "5/5 [==============================] - ETA: 0s - loss: 0.5270 - accuracy: 0.9187\n",
            "Epoch 31: val_accuracy did not improve from 0.92500\n",
            "5/5 [==============================] - 21s 4s/step - loss: 0.5270 - accuracy: 0.9187 - val_loss: 0.6025 - val_accuracy: 0.9125\n",
            "Epoch 32/50\n",
            "5/5 [==============================] - ETA: 0s - loss: 0.5258 - accuracy: 0.9000\n",
            "Epoch 32: val_accuracy did not improve from 0.92500\n",
            "5/5 [==============================] - 22s 4s/step - loss: 0.5258 - accuracy: 0.9000 - val_loss: 0.4492 - val_accuracy: 0.8938\n",
            "Epoch 33/50\n",
            "5/5 [==============================] - ETA: 0s - loss: 0.8716 - accuracy: 0.9062\n",
            "Epoch 33: val_accuracy did not improve from 0.92500\n",
            "5/5 [==============================] - 21s 4s/step - loss: 0.8716 - accuracy: 0.9062 - val_loss: 0.8640 - val_accuracy: 0.8562\n",
            "Epoch 34/50\n",
            "5/5 [==============================] - ETA: 0s - loss: 0.2563 - accuracy: 0.9312\n",
            "Epoch 34: val_accuracy did not improve from 0.92500\n",
            "5/5 [==============================] - 20s 4s/step - loss: 0.2563 - accuracy: 0.9312 - val_loss: 0.5363 - val_accuracy: 0.9062\n",
            "Epoch 35/50\n",
            "5/5 [==============================] - ETA: 0s - loss: 0.5945 - accuracy: 0.9187\n",
            "Epoch 35: val_accuracy improved from 0.92500 to 0.93125, saving model to animals.h5\n",
            "5/5 [==============================] - 17s 3s/step - loss: 0.5945 - accuracy: 0.9187 - val_loss: 0.4434 - val_accuracy: 0.9312\n",
            "Epoch 36/50\n",
            "5/5 [==============================] - ETA: 0s - loss: 0.3165 - accuracy: 0.9312\n",
            "Epoch 36: val_accuracy did not improve from 0.93125\n",
            "5/5 [==============================] - 18s 4s/step - loss: 0.3165 - accuracy: 0.9312 - val_loss: 0.5404 - val_accuracy: 0.8750\n",
            "Epoch 37/50\n",
            "5/5 [==============================] - ETA: 0s - loss: 0.6565 - accuracy: 0.9062\n",
            "Epoch 37: val_accuracy did not improve from 0.93125\n",
            "5/5 [==============================] - 20s 4s/step - loss: 0.6565 - accuracy: 0.9062 - val_loss: 0.7466 - val_accuracy: 0.9062\n",
            "Epoch 38/50\n",
            "5/5 [==============================] - ETA: 0s - loss: 0.4037 - accuracy: 0.9250\n",
            "Epoch 38: val_accuracy did not improve from 0.93125\n",
            "5/5 [==============================] - 20s 4s/step - loss: 0.4037 - accuracy: 0.9250 - val_loss: 0.7569 - val_accuracy: 0.8625\n",
            "Epoch 39/50\n",
            "5/5 [==============================] - ETA: 0s - loss: 0.2689 - accuracy: 0.9187\n",
            "Epoch 39: val_accuracy did not improve from 0.93125\n",
            "5/5 [==============================] - 16s 4s/step - loss: 0.2689 - accuracy: 0.9187 - val_loss: 0.7759 - val_accuracy: 0.9000\n",
            "Epoch 40/50\n",
            "5/5 [==============================] - ETA: 0s - loss: 0.4438 - accuracy: 0.8938\n",
            "Epoch 40: val_accuracy did not improve from 0.93125\n",
            "5/5 [==============================] - 17s 4s/step - loss: 0.4438 - accuracy: 0.8938 - val_loss: 0.3313 - val_accuracy: 0.9000\n",
            "Epoch 41/50\n",
            "5/5 [==============================] - ETA: 0s - loss: 0.8939 - accuracy: 0.9125\n",
            "Epoch 41: val_accuracy did not improve from 0.93125\n",
            "5/5 [==============================] - 14s 3s/step - loss: 0.8939 - accuracy: 0.9125 - val_loss: 0.3858 - val_accuracy: 0.9250\n",
            "Epoch 42/50\n",
            "5/5 [==============================] - ETA: 0s - loss: 0.3804 - accuracy: 0.9438\n",
            "Epoch 42: val_accuracy improved from 0.93125 to 0.93750, saving model to animals.h5\n",
            "5/5 [==============================] - 16s 3s/step - loss: 0.3804 - accuracy: 0.9438 - val_loss: 0.2940 - val_accuracy: 0.9375\n",
            "Epoch 43/50\n",
            "5/5 [==============================] - ETA: 0s - loss: 0.6765 - accuracy: 0.9125\n",
            "Epoch 43: val_accuracy did not improve from 0.93750\n",
            "5/5 [==============================] - 17s 3s/step - loss: 0.6765 - accuracy: 0.9125 - val_loss: 0.5005 - val_accuracy: 0.8938\n",
            "Epoch 44/50\n",
            "5/5 [==============================] - ETA: 0s - loss: 0.6857 - accuracy: 0.8625\n",
            "Epoch 44: val_accuracy did not improve from 0.93750\n",
            "5/5 [==============================] - 11s 2s/step - loss: 0.6857 - accuracy: 0.8625 - val_loss: 0.5238 - val_accuracy: 0.9000\n",
            "Epoch 45/50\n",
            "5/5 [==============================] - ETA: 0s - loss: 0.4464 - accuracy: 0.9187\n",
            "Epoch 45: val_accuracy did not improve from 0.93750\n",
            "5/5 [==============================] - 16s 3s/step - loss: 0.4464 - accuracy: 0.9187 - val_loss: 0.6735 - val_accuracy: 0.9062\n",
            "Epoch 46/50\n",
            "5/5 [==============================] - ETA: 0s - loss: 0.4234 - accuracy: 0.8750\n",
            "Epoch 46: val_accuracy did not improve from 0.93750\n",
            "5/5 [==============================] - 17s 4s/step - loss: 0.4234 - accuracy: 0.8750 - val_loss: 0.2542 - val_accuracy: 0.9312\n",
            "Epoch 47/50\n",
            "5/5 [==============================] - ETA: 0s - loss: 0.4746 - accuracy: 0.8875\n",
            "Epoch 47: val_accuracy did not improve from 0.93750\n",
            "5/5 [==============================] - 19s 4s/step - loss: 0.4746 - accuracy: 0.8875 - val_loss: 0.4254 - val_accuracy: 0.8750\n",
            "Epoch 48/50\n",
            "5/5 [==============================] - ETA: 0s - loss: 0.2485 - accuracy: 0.9312\n",
            "Epoch 48: val_accuracy improved from 0.93750 to 0.94375, saving model to animals.h5\n",
            "5/5 [==============================] - 17s 4s/step - loss: 0.2485 - accuracy: 0.9312 - val_loss: 0.3930 - val_accuracy: 0.9438\n",
            "Epoch 49/50\n",
            "5/5 [==============================] - ETA: 0s - loss: 0.3076 - accuracy: 0.9375\n",
            "Epoch 49: val_accuracy improved from 0.94375 to 0.96250, saving model to animals.h5\n",
            "5/5 [==============================] - 13s 2s/step - loss: 0.3076 - accuracy: 0.9375 - val_loss: 0.1366 - val_accuracy: 0.9625\n",
            "Epoch 50/50\n",
            "5/5 [==============================] - ETA: 0s - loss: 0.5989 - accuracy: 0.9062\n",
            "Epoch 50: val_accuracy did not improve from 0.96250\n",
            "5/5 [==============================] - 14s 3s/step - loss: 0.5989 - accuracy: 0.9062 - val_loss: 0.2994 - val_accuracy: 0.9250\n"
          ]
        }
      ],
      "source": [
        "history = model2.fit(\n",
        "    train_generator,\n",
        "    steps_per_epoch= 5,\n",
        "    epochs= 50,\n",
        "    validation_data=validation_generator,\n",
        "    validation_steps = 5,\n",
        "    callbacks=[checkpoint, early_stopping],\n",
        "    verbose=1)"
      ]
    },
    {
      "cell_type": "code",
      "execution_count": 6,
      "metadata": {
        "colab": {
          "base_uri": "https://localhost:8080/",
          "height": 447
        },
        "id": "xrdgSFdLvV1m",
        "outputId": "e83d8b35-8dad-47b5-98f1-ab5a73109864"
      },
      "outputs": [
        {
          "output_type": "execute_result",
          "data": {
            "text/plain": [
              "[]"
            ]
          },
          "metadata": {},
          "execution_count": 6
        },
        {
          "output_type": "display_data",
          "data": {
            "text/plain": [
              "<Figure size 640x480 with 1 Axes>"
            ],
            "image/png": "[encoded data removed]"
          },
          "metadata": {}
        }
      ],
      "source": [
        "import matplotlib.pyplot as plt\n",
        "\n",
        "plt.plot(history.history['val_loss'])\n",
        "plt.plot(history.history['loss'])\n",
        "\n",
        "plt.plot()"
      ]
    },
    {
      "cell_type": "code",
      "execution_count": 7,
      "metadata": {
        "colab": {
          "base_uri": "https://localhost:8080/",
          "height": 447
        },
        "id": "vOov_vhVl97A",
        "outputId": "2ea6c444-b523-427e-ead0-293002850837"
      },
      "outputs": [
        {
          "output_type": "execute_result",
          "data": {
            "text/plain": [
              "[]"
            ]
          },
          "metadata": {},
          "execution_count": 7
        },
        {
          "output_type": "display_data",
          "data": {
            "text/plain": [
              "<Figure size 640x480 with 1 Axes>"
            ],
            "image/png": "[encoded data removed]"
          },
          "metadata": {}
        }
      ],
      "source": [
        "plt.plot(history.history['val_accuracy'])\n",
        "plt.plot(history.history['accuracy'])\n",
        "\n",
        "plt.plot()"
      ]
    },
    {
      "cell_type": "code",
      "execution_count": 8,
      "metadata": {
        "colab": {
          "base_uri": "https://localhost:8080/"
        },
        "id": "JvhQp_z-mE16",
        "outputId": "c2c8bb9a-72bc-447f-e353-c0d6e378c67a"
      },
      "outputs": [
        {
          "output_type": "stream",
          "name": "stdout",
          "text": [
            "164/164 [==============================] - 64s 391ms/step - loss: 0.3560 - accuracy: 0.9247\n"
          ]
        },
        {
          "output_type": "execute_result",
          "data": {
            "text/plain": [
              "[0.3559562563896179, 0.9246941804885864]"
            ]
          },
          "metadata": {},
          "execution_count": 8
        }
      ],
      "source": [
        "model = tf.keras.models.load_model('animals.h5')\n",
        "model.evaluate(validation_generator)"
      ]
    },
    {
      "cell_type": "code",
      "execution_count": 9,
      "metadata": {
        "colab": {
          "base_uri": "https://localhost:8080/"
        },
        "id": "9mkOdIeLysna",
        "outputId": "cb32fd54-7e6e-45b2-a57e-ab1123165ae3"
      },
      "outputs": [
        {
          "output_type": "execute_result",
          "data": {
            "text/plain": [
              "68844124"
            ]
          },
          "metadata": {},
          "execution_count": 9
        }
      ],
      "source": [
        "export_dir = 'saved_model/'\n",
        "tf.saved_model.save(model, export_dir)\n",
        "\n",
        "converter = tf.lite.TFLiteConverter.from_saved_model(export_dir)\n",
        "tflite_model = converter.convert()\n",
        "\n",
        "tflite_model_file = pathlib.Path('animals.tflite')\n",
        "tflite_model_file.write_bytes(tflite_model)"
      ]
    }
  ],
  "metadata": {
    "colab": {
      "provenance": [],
      "gpuType": "T4"
    },
    "kernelspec": {
      "display_name": "Python 3",
      "name": "python3"
    },
    "language_info": {
      "name": "python"
    },
    "accelerator": "GPU"
  },
  "nbformat": 4,
  "nbformat_minor": 0
}
